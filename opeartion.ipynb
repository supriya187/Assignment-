{
 "cells": [
  {
   "cell_type": "markdown",
   "id": "c3461ddc-cc4b-4ec8-a106-0fbdce57d7de",
   "metadata": {},
   "source": [
    "# Operation on list"
   ]
  },
  {
   "cell_type": "markdown",
   "id": "e4e72359-b797-456a-b2a1-40e4ecb919c4",
   "metadata": {},
   "source": [
    "#### Create a List"
   ]
  },
  {
   "cell_type": "code",
   "execution_count": 3,
   "id": "34b68ff3-eb86-467b-b616-7be031306e4e",
   "metadata": {},
   "outputs": [
    {
     "name": "stdout",
     "output_type": "stream",
     "text": [
      "Original List: ['Delhi', 'Mumbai', 'Chennai']\n"
     ]
    }
   ],
   "source": [
    "cities = [\"Delhi\", \"Mumbai\", \"Chennai\"]\n",
    "print(\"List:\", cities)"
   ]
  },
  {
   "cell_type": "markdown",
   "id": "061e935c-c3b0-4b30-ae75-81fd03a5eb4a",
   "metadata": {},
   "source": [
    "#### Append an Element"
   ]
  },
  {
   "cell_type": "code",
   "execution_count": 5,
   "id": "738a4b1b-ce88-43c7-a082-9bdac6b4c88c",
   "metadata": {},
   "outputs": [
    {
     "name": "stdout",
     "output_type": "stream",
     "text": [
      "After Append: [2, 4, 6, 8]\n"
     ]
    }
   ],
   "source": [
    "numbers = [2, 4, 6]\n",
    "numbers.append(8)\n",
    "print(\"After Append:\", numbers)"
   ]
  },
  {
   "cell_type": "markdown",
   "id": "9b8aeb2d-785a-4f69-9f0e-fe1ceaf95993",
   "metadata": {},
   "source": [
    "#### Insert an Element"
   ]
  },
  {
   "cell_type": "code",
   "execution_count": 7,
   "id": "96c332cd-c9c2-41f9-9c50-0d77dea3d9a0",
   "metadata": {},
   "outputs": [
    {
     "name": "stdout",
     "output_type": "stream",
     "text": [
      "After Insert: ['Python', 'C++', 'C', 'Java']\n"
     ]
    }
   ],
   "source": [
    "languages = [\"Python\", \"C\", \"Java\"]\n",
    "languages.insert(1, \"C++\")\n",
    "print(\"After Insert:\", languages)"
   ]
  },
  {
   "cell_type": "markdown",
   "id": "989a9492-5b3f-452e-98c7-0489fdfcaba5",
   "metadata": {},
   "source": [
    "#### Remove an Element"
   ]
  },
  {
   "cell_type": "code",
   "execution_count": 9,
   "id": "26ca9dfe-1b09-44d0-85a2-02c120833385",
   "metadata": {},
   "outputs": [
    {
     "name": "stdout",
     "output_type": "stream",
     "text": [
      "After Remove: ['cricket', 'football', 'tennis']\n"
     ]
    }
   ],
   "source": [
    "sports = [\"cricket\", \"football\", \"hockey\", \"tennis\"]\n",
    "sports.remove(\"hockey\")\n",
    "print(\"After Remove:\", sports)"
   ]
  },
  {
   "cell_type": "markdown",
   "id": "30212550-48f5-47ff-8a4a-84f91776b150",
   "metadata": {},
   "source": [
    "#### Reverse the List"
   ]
  },
  {
   "cell_type": "code",
   "execution_count": 11,
   "id": "c8c868e8-3806-43f6-81c1-6239be760ed1",
   "metadata": {},
   "outputs": [
    {
     "name": "stdout",
     "output_type": "stream",
     "text": [
      "After Reverse: ['z', 'y', 'x']\n"
     ]
    }
   ],
   "source": [
    "letters = [\"x\", \"y\", \"z\"]\n",
    "letters.reverse()\n",
    "print(\"After Reverse:\", letters)"
   ]
  },
  {
   "cell_type": "markdown",
   "id": "7be8c5c2-bdf1-4b83-9d93-c47c1745423e",
   "metadata": {},
   "source": [
    "# Operation on tuple"
   ]
  },
  {
   "cell_type": "markdown",
   "id": "ed24a248-89b1-4a9f-8401-8431bb4068ab",
   "metadata": {},
   "source": [
    "#### Create a Tuple"
   ]
  },
  {
   "cell_type": "code",
   "execution_count": 14,
   "id": "c776f767-18fb-490f-be7d-1d2f27971fc9",
   "metadata": {},
   "outputs": [
    {
     "name": "stdout",
     "output_type": "stream",
     "text": [
      "Original Tuple: ('car', 'bike', 'bus')\n"
     ]
    }
   ],
   "source": [
    "vehicles = (\"car\", \"bike\", \"bus\")\n",
    "print(\"Original Tuple:\", vehicles)"
   ]
  },
  {
   "cell_type": "markdown",
   "id": "1b6e8069-7b35-4fe0-b2d2-58b6d2acc832",
   "metadata": {},
   "source": [
    "#### Access an Element"
   ]
  },
  {
   "cell_type": "code",
   "execution_count": 16,
   "id": "dacfabdf-ed3c-4a17-965d-033115437bb2",
   "metadata": {},
   "outputs": [
    {
     "name": "stdout",
     "output_type": "stream",
     "text": [
      "First Element: 100\n"
     ]
    }
   ],
   "source": [
    "numbers = (100, 200, 300)\n",
    "print(\"First Element:\", numbers[0])"
   ]
  },
  {
   "cell_type": "markdown",
   "id": "8d6c1c9f-9f67-4346-9db8-c7f297eff78b",
   "metadata": {},
   "source": [
    "####  Slicing"
   ]
  },
  {
   "cell_type": "code",
   "execution_count": 18,
   "id": "fd2c5e14-d8c9-4c9b-a438-9dde27536c17",
   "metadata": {},
   "outputs": [
    {
     "name": "stdout",
     "output_type": "stream",
     "text": [
      "Slice (1:4): ('Tue', 'Wed', 'Thu')\n"
     ]
    }
   ],
   "source": [
    "days = (\"Mon\", \"Tue\", \"Wed\", \"Thu\", \"Fri\")\n",
    "print(\"Slice (1:4):\", days[1:4])"
   ]
  },
  {
   "cell_type": "markdown",
   "id": "b620b270-1627-4c1a-b86f-89ef4f6f5851",
   "metadata": {},
   "source": [
    "#### Count an Element"
   ]
  },
  {
   "cell_type": "code",
   "execution_count": 20,
   "id": "a0915882-c9d2-4457-a2c7-aaf07db65b63",
   "metadata": {},
   "outputs": [
    {
     "name": "stdout",
     "output_type": "stream",
     "text": [
      "Count of 'cow': 2\n"
     ]
    }
   ],
   "source": [
    "animals = (\"cow\", \"goat\", \"cow\", \"sheep\")\n",
    "print(\"Count of 'cow':\", animals.count(\"cow\"))"
   ]
  },
  {
   "cell_type": "markdown",
   "id": "1d80a6f5-f86a-4a00-8eff-f4d7d82f53f2",
   "metadata": {},
   "source": [
    "#### Find Index"
   ]
  },
  {
   "cell_type": "code",
   "execution_count": 22,
   "id": "d2237967-5016-44f5-b1a0-a479254bb487",
   "metadata": {},
   "outputs": [
    {
     "name": "stdout",
     "output_type": "stream",
     "text": [
      "Index of 'r': 2\n"
     ]
    }
   ],
   "source": [
    "letters = (\"p\", \"q\", \"r\", \"s\")\n",
    "print(\"Index of 'r':\", letters.index(\"r\"))"
   ]
  },
  {
   "cell_type": "markdown",
   "id": "ae5b195d-ace4-4e44-b682-323c9efe73d1",
   "metadata": {},
   "source": [
    "# Operation on set"
   ]
  },
  {
   "cell_type": "markdown",
   "id": "994c276e-d753-48ac-9e63-0574d92d5d7b",
   "metadata": {},
   "source": [
    "#### Create a Set"
   ]
  },
  {
   "cell_type": "code",
   "execution_count": 25,
   "id": "e5393e63-f048-48d2-a97c-513d76404219",
   "metadata": {},
   "outputs": [
    {
     "name": "stdout",
     "output_type": "stream",
     "text": [
      "Original Set: {'pink', 'purple', 'orange'}\n"
     ]
    }
   ],
   "source": [
    "colors = {\"pink\", \"orange\", \"purple\"}\n",
    "print(\"Original Set:\", colors)"
   ]
  },
  {
   "cell_type": "markdown",
   "id": "bb4f0dd7-26b5-4cc4-aa5d-9783c2b708db",
   "metadata": {},
   "source": [
    "#### Add an Element"
   ]
  },
  {
   "cell_type": "code",
   "execution_count": 27,
   "id": "26c2c708-3d70-4a3a-80ff-2f0902ffa40e",
   "metadata": {},
   "outputs": [
    {
     "name": "stdout",
     "output_type": "stream",
     "text": [
      "After Add: {1, 3, 5, 7}\n"
     ]
    }
   ],
   "source": [
    "numbers = {1, 3, 5}\n",
    "numbers.add(7)\n",
    "print(\"After Add:\", numbers)"
   ]
  },
  {
   "cell_type": "markdown",
   "id": "9b84105c-2ea8-4633-9132-b61458facf8f",
   "metadata": {},
   "source": [
    "####  Remove an Element"
   ]
  },
  {
   "cell_type": "code",
   "execution_count": 29,
   "id": "dd166265-4f64-4e60-9bd1-ad14dd8150b3",
   "metadata": {},
   "outputs": [
    {
     "name": "stdout",
     "output_type": "stream",
     "text": [
      "After Remove: {'eagle', 'parrot'}\n"
     ]
    }
   ],
   "source": [
    "birds = {\"parrot\", \"crow\", \"eagle\"}\n",
    "birds.remove(\"crow\")\n",
    "print(\"After Remove:\", birds)"
   ]
  },
  {
   "cell_type": "markdown",
   "id": "29687e8a-4577-40dc-92f7-96f445cf49c3",
   "metadata": {},
   "source": [
    "#### Union"
   ]
  },
  {
   "cell_type": "code",
   "execution_count": 31,
   "id": "5467aacc-3464-4059-9846-bed31ac7a08f",
   "metadata": {},
   "outputs": [
    {
     "name": "stdout",
     "output_type": "stream",
     "text": [
      "Union: {20, 40, 10, 30}\n"
     ]
    }
   ],
   "source": [
    "set1 = {10, 20}\n",
    "set2 = {20, 30, 40}\n",
    "print(\"Union:\", set1.union(set2))"
   ]
  },
  {
   "cell_type": "markdown",
   "id": "adda588e-6084-4472-a584-5306bd36313f",
   "metadata": {},
   "source": [
    "#### Intersection"
   ]
  },
  {
   "cell_type": "code",
   "execution_count": 33,
   "id": "733e2f0e-7bbd-41a6-bead-41b3e38ccda2",
   "metadata": {},
   "outputs": [
    {
     "name": "stdout",
     "output_type": "stream",
     "text": [
      "Intersection: {'banana'}\n"
     ]
    }
   ],
   "source": [
    "a = {\"apple\", \"banana\"}\n",
    "b = {\"banana\", \"mango\"}\n",
    "print(\"Intersection:\", a.intersection(b))"
   ]
  },
  {
   "cell_type": "markdown",
   "id": "7b17a234-e356-4ea6-91a1-963e2fdc92a2",
   "metadata": {},
   "source": [
    "# Operation on dictionary"
   ]
  },
  {
   "cell_type": "markdown",
   "id": "55fa4d9b-94fc-4ae0-818d-ba936e5b73b7",
   "metadata": {},
   "source": [
    "#### Create a Dictionary"
   ]
  },
  {
   "cell_type": "code",
   "execution_count": 40,
   "id": "10ea3b09-f1ef-4a6f-9c38-dbc13b676cdc",
   "metadata": {},
   "outputs": [
    {
     "name": "stdout",
     "output_type": "stream",
     "text": [
      "Original Dictionary: {'roll': 1, 'name': 'Supriya', 'dept': 'CSE'}\n"
     ]
    }
   ],
   "source": [
    "student = {\"roll\": 1, \"name\": \"Supriya\", \"dept\": \"CSE\"}\n",
    "print(\"Original Dictionary:\", student)"
   ]
  },
  {
   "cell_type": "markdown",
   "id": "52d1c256-813a-44af-990b-0359bd813e03",
   "metadata": {},
   "source": [
    "#### Add a Key-Value Pair"
   ]
  },
  {
   "cell_type": "code",
   "execution_count": 38,
   "id": "fa0dfc43-6f2f-4155-83cf-96ffc190bfcb",
   "metadata": {},
   "outputs": [
    {
     "name": "stdout",
     "output_type": "stream",
     "text": [
      "After Add: {'math': 70, 'science': 80, 'history': 65}\n"
     ]
    }
   ],
   "source": [
    "marks = {\"math\": 70, \"science\": 80}\n",
    "marks[\"history\"] = 65\n",
    "print(\"After Add:\", marks)"
   ]
  },
  {
   "cell_type": "markdown",
   "id": "c457758b-7a63-4127-aede-4d55946329a6",
   "metadata": {},
   "source": [
    "#### Update a Value"
   ]
  },
  {
   "cell_type": "code",
   "execution_count": 41,
   "id": "a5b89806-5b91-405b-acff-a09e0881245b",
   "metadata": {},
   "outputs": [
    {
     "name": "stdout",
     "output_type": "stream",
     "text": [
      "After Update: {'brand': 'Samsung', 'model': 'M14', 'price': 15000}\n"
     ]
    }
   ],
   "source": [
    "phone = {\"brand\": \"Samsung\", \"model\": \"M14\", \"price\": 12000}\n",
    "phone[\"price\"] = 15000\n",
    "print(\"After Update:\", phone)"
   ]
  },
  {
   "cell_type": "markdown",
   "id": "b2259284-1f04-4822-8df6-048d61e6f1f0",
   "metadata": {},
   "source": [
    "#### Remove a Key-Value Pair"
   ]
  },
  {
   "cell_type": "code",
   "execution_count": 43,
   "id": "fca7e4ca-c363-4491-b4df-218084801964",
   "metadata": {},
   "outputs": [
    {
     "name": "stdout",
     "output_type": "stream",
     "text": [
      "After Remove: {'brand': 'HP', 'storage': '512GB'}\n"
     ]
    }
   ],
   "source": [
    "laptop = {\"brand\": \"HP\", \"ram\": \"8GB\", \"storage\": \"512GB\"}\n",
    "laptop.pop(\"ram\")\n",
    "print(\"After Remove:\", laptop)"
   ]
  },
  {
   "cell_type": "markdown",
   "id": "3fa37c75-646a-44a8-a7d8-f365b1bca3fc",
   "metadata": {},
   "source": [
    "#### Get Keys and Values"
   ]
  },
  {
   "cell_type": "code",
   "execution_count": 46,
   "id": "e4fbbd16-7691-4cf8-8730-39ea39db3961",
   "metadata": {},
   "outputs": [
    {
     "name": "stdout",
     "output_type": "stream",
     "text": [
      "Keys: dict_keys(['title', 'year', 'rating'])\n",
      "Values: dict_values(['Leo', 2024, 9])\n"
     ]
    }
   ],
   "source": [
    "movie = {\"title\": \"Leo\", \"year\": 2024, \"rating\": 9}\n",
    "print(\"Keys:\", movie.keys())\n",
    "print(\"Values:\", movie.values())"
   ]
  },
  {
   "cell_type": "code",
   "execution_count": null,
   "id": "63788c9c-fa9b-4725-b9d3-f68ab8ebe6ae",
   "metadata": {},
   "outputs": [],
   "source": []
  }
 ],
 "metadata": {
  "kernelspec": {
   "display_name": "Python 3 (ipykernel)",
   "language": "python",
   "name": "python3"
  },
  "language_info": {
   "codemirror_mode": {
    "name": "ipython",
    "version": 3
   },
   "file_extension": ".py",
   "mimetype": "text/x-python",
   "name": "python",
   "nbconvert_exporter": "python",
   "pygments_lexer": "ipython3",
   "version": "3.13.5"
  }
 },
 "nbformat": 4,
 "nbformat_minor": 5
}
